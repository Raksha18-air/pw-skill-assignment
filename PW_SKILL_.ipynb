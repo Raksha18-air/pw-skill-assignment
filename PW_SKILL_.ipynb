{
  "nbformat": 4,
  "nbformat_minor": 0,
  "metadata": {
    "colab": {
      "provenance": []
    },
    "kernelspec": {
      "name": "python3",
      "display_name": "Python 3"
    },
    "language_info": {
      "name": "python"
    }
  },
  "cells": [
    {
      "cell_type": "code",
      "execution_count": null,
      "metadata": {
        "colab": {
          "base_uri": "https://localhost:8080/"
        },
        "id": "dcIr52aLwvsS",
        "outputId": "c843452b-eab3-473d-9cdf-199b9c434a2c"
      },
      "outputs": [
        {
          "output_type": "stream",
          "name": "stdout",
          "text": [
            "['freedomfighter', 'Mohan', 'dash', 'karam', 'chandra', 'gandhi', 'Bapu']\n"
          ]
        }
      ],
      "source": [
        "name = [\"Mohan\", \"dash\", \"karam\", \"chandra\",\"gandhi\",\"Bapu\"]\n",
        "name.insert(0,'freedomfighter')\n",
        "print(name)\n"
      ]
    },
    {
      "cell_type": "code",
      "source": [
        "name = [\"Mohan\", \"dash\", \"karam\", \"chandra\",\"gandhi\",\"Bapu\"]\n",
        "name.append(\"NetaJi\")\n",
        "name.append(\"Bose\")\n",
        "\n",
        "print(name)"
      ],
      "metadata": {
        "colab": {
          "base_uri": "https://localhost:8080/"
        },
        "id": "A8NcN6q4x1sH",
        "outputId": "9b1cce36-f9f4-419b-914d-131d574a1544"
      },
      "execution_count": null,
      "outputs": [
        {
          "output_type": "stream",
          "name": "stdout",
          "text": [
            "['Mohan', 'dash', 'karam', 'chandra', 'gandhi', 'Bapu', 'NetaJi', 'Bose']\n"
          ]
        }
      ]
    },
    {
      "cell_type": "code",
      "source": [
        "name = ['freedomFighter',\"Bapuji\",\"MOhan\" ,\"dash\", \"karam\",\n",
        "\"chandra\",\"gandhi\"]\n",
        "length1=len((name[-len(name)+1:-1:2]))\n",
        "length2=len((name[-len(name)+1:-1]))\n",
        "print(length1+length2)"
      ],
      "metadata": {
        "colab": {
          "base_uri": "https://localhost:8080/"
        },
        "id": "qpeboUXDyeWW",
        "outputId": "ce8461d9-502d-4689-d603-26c792187a37"
      },
      "execution_count": null,
      "outputs": [
        {
          "output_type": "stream",
          "name": "stdout",
          "text": [
            "8\n"
          ]
        }
      ]
    },
    {
      "cell_type": "code",
      "source": [
        "name = [\"Bapuji\", \"dash\", \"karam\", \"chandra\",\"gandhi\",\"Mohan\"]\n",
        "temp=name[-1]\n",
        "name[-1]=name[0]\n",
        "name[0]=temp\n",
        "print(name)"
      ],
      "metadata": {
        "colab": {
          "base_uri": "https://localhost:8080/"
        },
        "id": "kLUKVZx_ypFT",
        "outputId": "7c76b048-3277-4a9d-91da-2fda55fbb817"
      },
      "execution_count": null,
      "outputs": [
        {
          "output_type": "stream",
          "name": "stdout",
          "text": [
            "['Mohan', 'dash', 'karam', 'chandra', 'gandhi', 'Bapuji']\n"
          ]
        }
      ]
    },
    {
      "cell_type": "code",
      "source": [
        "animal = ['Human','cat','mat','cat','rat','Human', 'Lion']\n",
        "print(animal.count('Human'))\n",
        "print(animal.index('rat'))\n",
        "print(len(animal))"
      ],
      "metadata": {
        "colab": {
          "base_uri": "https://localhost:8080/"
        },
        "id": "ToXv_yNjzDEz",
        "outputId": "291909d2-2bc0-4fac-8efd-55f86648125f"
      },
      "execution_count": null,
      "outputs": [
        {
          "output_type": "stream",
          "name": "stdout",
          "text": [
            "2\n",
            "4\n",
            "7\n"
          ]
        }
      ]
    },
    {
      "cell_type": "markdown",
      "source": [
        "Write a program to display the appropriate message as per the color of signal(RED-Stop/Yellow-Stay/\n",
        "Green-Go) at the road crossing."
      ],
      "metadata": {
        "id": "T5O-BsGeKNx2"
      }
    },
    {
      "cell_type": "code",
      "source": [
        "signal=input('write the colour of signal : ')\n",
        "red='red'\n",
        "yellow='yellow'\n",
        "green='green'\n",
        "\n",
        "if signal==red:\n",
        "  print('stop')\n",
        "elif signal==yellow:\n",
        "  print('stay')\n",
        "elif signal==green:\n",
        "  print('go')\n",
        "else:\n",
        "  print('invalid')"
      ],
      "metadata": {
        "colab": {
          "base_uri": "https://localhost:8080/"
        },
        "id": "Sqj-u2VzKNFF",
        "outputId": "a3fb130b-0109-4c1a-ed4d-ce402cca2e38"
      },
      "execution_count": null,
      "outputs": [
        {
          "output_type": "stream",
          "name": "stdout",
          "text": [
            "write the colour of signalred\n",
            "stop\n"
          ]
        }
      ]
    },
    {
      "cell_type": "markdown",
      "source": [
        "Write a program to create a simple calculator performing only four basic operations(+,-,/,*) ."
      ],
      "metadata": {
        "id": "cGvvhHdUMXQz"
      }
    },
    {
      "cell_type": "code",
      "source": [
        "a=int(input('enter the first number : '))\n",
        "b=int(input('enter the second number : '))\n",
        "c=input('enter the operator : ')\n",
        "\n",
        "\n",
        "if c=='+':\n",
        "  res=a+b\n",
        "  print(f'the sum of {a} and {b} is  {res}')\n",
        "\n",
        "elif c=='-':\n",
        "  res=a-b\n",
        "  print(f'the difference of {a} and {b} is  {res}')\n",
        "elif c=='*':\n",
        "  res=a*b\n",
        "  print(f'the product of {a} and {b} is  {res}')\n",
        "\n",
        "elif c=='/':\n",
        "  res=a/b\n",
        "  print(f'the quotient of {a} and {b} is  {res}')\n",
        "else:\n",
        "  print('invalid')"
      ],
      "metadata": {
        "colab": {
          "base_uri": "https://localhost:8080/"
        },
        "id": "n55mikgbMYc2",
        "outputId": "c0b1b11e-8532-41b1-c72c-95b64a84ea08"
      },
      "execution_count": null,
      "outputs": [
        {
          "output_type": "stream",
          "name": "stdout",
          "text": [
            "enter the first number : 5\n",
            "enter the second number : 6\n",
            "enter the operator : *\n",
            "the product of 5 and 6 is  30\n"
          ]
        }
      ]
    },
    {
      "cell_type": "markdown",
      "source": [
        "Write a program to find the larger of the three pre-specified numbers using ternary operators."
      ],
      "metadata": {
        "id": "DPD760cnU6pM"
      }
    },
    {
      "cell_type": "code",
      "source": [
        "a=int(input('enter a number :'))\n",
        "b=int(input('enter a number :'))\n",
        "c=int(input('enter a number :'))\n",
        "largest = a if( a > b and a > c) else (b if b > c else c)\n",
        "\n",
        "print(\"The largest number is:\", largest)"
      ],
      "metadata": {
        "colab": {
          "base_uri": "https://localhost:8080/"
        },
        "id": "NpTl3FRXU2Wa",
        "outputId": "6695d7de-6863-4e74-a3a9-f6a32e39affc"
      },
      "execution_count": null,
      "outputs": [
        {
          "output_type": "stream",
          "name": "stdout",
          "text": [
            "enter a number :4\n",
            "enter a number :20\n",
            "enter a number :3\n",
            "The largest number is: 20\n"
          ]
        }
      ]
    },
    {
      "cell_type": "markdown",
      "source": [
        "Write a program to find the factors of a whole number using a while loop."
      ],
      "metadata": {
        "id": "xQ5QpezGVCgb"
      }
    },
    {
      "cell_type": "markdown",
      "source": [],
      "metadata": {
        "id": "xhTcv6c3pZhh"
      }
    },
    {
      "cell_type": "code",
      "source": [
        "num=int(input('enter a number :'))\n",
        "factor=[]\n",
        "temp= 1\n",
        "while temp<=num:\n",
        "  if num%temp==0:\n",
        "    factor.append(temp)\n",
        "  temp+=1\n",
        "print(factor)\n"
      ],
      "metadata": {
        "colab": {
          "base_uri": "https://localhost:8080/"
        },
        "id": "Gg6-atM4VCHx",
        "outputId": "03723c2a-3cc2-41cd-ae80-48a63eee9523"
      },
      "execution_count": null,
      "outputs": [
        {
          "output_type": "stream",
          "name": "stdout",
          "text": [
            "enter a number :24\n",
            "[1, 2, 3, 4, 6, 8, 12, 24]\n"
          ]
        }
      ]
    },
    {
      "cell_type": "markdown",
      "source": [
        "Write a program to find the sum of all the positive numbers entered by the user. As soon as the user\n",
        "enters a negative number, stop taking in any further input from the user and display the sum ."
      ],
      "metadata": {
        "id": "B-mjft4HVgmX"
      }
    },
    {
      "cell_type": "code",
      "source": [
        "user_input=int(input('enter a number :'))\n",
        "sum=0\n",
        "while user_input>=0:\n",
        "  sum+=user_input\n",
        "  user_input=int(input('enter a number :'))\n",
        "print(sum)"
      ],
      "metadata": {
        "colab": {
          "base_uri": "https://localhost:8080/"
        },
        "id": "gf2qHNBGVnvU",
        "outputId": "116aa21b-fd1c-4fba-a749-722a57bf95e1"
      },
      "execution_count": null,
      "outputs": [
        {
          "output_type": "stream",
          "name": "stdout",
          "text": [
            "enter a number :12\n",
            "enter a number :12\n",
            "enter a number :12\n",
            "enter a number :-12\n",
            "36\n"
          ]
        }
      ]
    },
    {
      "cell_type": "markdown",
      "source": [
        "Write a program to find prime numbers between 2 to 100 using nested for loops."
      ],
      "metadata": {
        "id": "C3NhZ78gWR6D"
      }
    },
    {
      "cell_type": "code",
      "source": [
        "prime_number=[]\n",
        "for i in range(2,101):\n",
        "  flag=True\n",
        "  for j in range(2,i):\n",
        "    if i%j==0:\n",
        "      flag=False\n",
        "      break\n",
        "  if flag:\n",
        "    prime_number.append(i)\n",
        "print(prime_number)\n"
      ],
      "metadata": {
        "colab": {
          "base_uri": "https://localhost:8080/"
        },
        "id": "HA_Lz6CeWK8q",
        "outputId": "59a5c223-20fa-49f7-9908-85eff5e1bc22"
      },
      "execution_count": null,
      "outputs": [
        {
          "output_type": "stream",
          "name": "stdout",
          "text": [
            "[2, 3, 5, 7, 11, 13, 17, 19, 23, 29, 31, 37, 41, 43, 47, 53, 59, 61, 67, 71, 73, 79, 83, 89, 97]\n"
          ]
        }
      ]
    },
    {
      "cell_type": "markdown",
      "source": [
        "AcceTt the marks of the student in five major subjects and disTlay the sameS\n",
        "? Calculate the sum of the marks of all subjects.Divide the total marks by number of subjects (i.e. 5), calculate\n",
        "Tercentage = total marks/5 and disTlay the TercentageS\n",
        "? Find the grade of the student as Ter the following criteria . Hint: Use Match & case for this.:"
      ],
      "metadata": {
        "id": "gBIWjCv1Xg0X"
      }
    },
    {
      "cell_type": "code",
      "source": [
        "sub_1 = int(input(\"Enter marks in subject 1:\"))\n",
        "sub_2 = int(input(\"Enter marks in subject 2:\"))\n",
        "sub_3 = int(input(\"Enter marks in subject 3:\"))\n",
        "sub_4 = int(input(\"Enter marks in subject 4:\"))\n",
        "sub_5 = int(input(\"Enter marks in subject 5:\"))\n",
        "total_marks = sub_1 + sub_2 + sub_3 + sub_4 + sub_5\n",
        "percentage = total_marks / 5\n",
        "if percentage > 85:\n",
        "    grade = \"A\"\n",
        "elif percentage < 85 and percentage >= 75:\n",
        "    grade = \"B\"\n",
        "elif percentage < 75 and percentage >= 50:\n",
        "    grade = \"C\"\n",
        "elif percentage < 50 and percentage >= 30:\n",
        "    grade = \"D\"\n",
        "else:\n",
        "    grade = \"Reappear\"\n",
        "print(f\"The result of the student is as follows:\\n Marks in subject 1: {sub_1}\\n Marks in subject 2: {sub_2}\\nMarks in subject 3: {sub_3}\\nMarks in subject 4: {sub_4}\\nMarks in subject 5: {sub_5}\\nTotal Marks of the Student: {total_marks}\\nPercentage of marks obtained: {percentage}\\nLetter Grade awarded is: {grade}\")"
      ],
      "metadata": {
        "colab": {
          "base_uri": "https://localhost:8080/"
        },
        "id": "RS7GmglsbqV1",
        "outputId": "6645437a-e7a5-4f29-d800-494c803c0c12"
      },
      "execution_count": null,
      "outputs": [
        {
          "output_type": "stream",
          "name": "stdout",
          "text": [
            "Enter marks in subject 1:70\n",
            "Enter marks in subject 2:80\n",
            "Enter marks in subject 3:5\n",
            "Enter marks in subject 4:90\n",
            "Enter marks in subject 5:85\n",
            "The result of the student is as follows:\n",
            " Marks in subject 1: 70\n",
            " Marks in subject 2: 80\n",
            "Marks in subject 3: 5\n",
            "Marks in subject 4: 90\n",
            "Marks in subject 5: 85\n",
            "Total Marks of the Student: 330\n",
            "Percentage of marks obtained: 66.0\n",
            "Letter Grade awarded is: C\n"
          ]
        }
      ]
    },
    {
      "cell_type": "markdown",
      "source": [
        "Write a program for VIBGYOR Spectrum based on their Wavelength using.\n",
        "Wavelength Range:"
      ],
      "metadata": {
        "id": "pPP1BagccU4f"
      }
    },
    {
      "cell_type": "code",
      "source": [
        "wavelength=float(input('enter the wavelength :'))\n",
        "if wavelength <=440.0 and wavelength >480.0:\n",
        "  print('Violet')\n",
        "elif wavelength <=460.0 and wavelength >440.0:\n",
        "  print('Indigo')\n",
        "elif wavelength <=500.0 and wavelength >460.0:\n",
        "  print('Blue')\n",
        "elif wavelength <=570.0 and wavelength >500.0:\n",
        "  print('Green')\n",
        "elif wavelength <=590.0 and wavelength >570.0:\n",
        "  print('Yellow')\n",
        "elif wavelength <=620.0 and wavelength >590.0:\n",
        "  print('Orange')\n",
        "elif wavelength <=720.0 and wavelength >620.0:\n",
        "  print('Red')"
      ],
      "metadata": {
        "colab": {
          "base_uri": "https://localhost:8080/"
        },
        "id": "I3cLDAptcXD9",
        "outputId": "6cd57f78-f308-4df0-af8c-e6abaad6c5b0"
      },
      "execution_count": null,
      "outputs": [
        {
          "output_type": "stream",
          "name": "stdout",
          "text": [
            "enter the wavelength :456.3\n",
            "Indigo\n"
          ]
        }
      ]
    },
    {
      "cell_type": "markdown",
      "source": [
        "1.14.Consider the gravitational interactions between the Earth, Moon, and Sun in our solar system.\n",
        "Given:\n",
        "mass_earth = 5.972e24 # Mass of Earth in kilograms\n",
        "mass_moon = 7.34767309e22 # Mass of Moon in kilograms\n",
        "mass_sun = .989e30 # Mass of Sun in kilograms\n",
        "distan0e_earth_sun = .496e # Average distan0e between Earth and Sun in meters\n",
        "distan0e_moon_earth = 3.844e8 # Average distan0e between Moon and Earth in meters\n",
        "Tasks\n",
        "/ Cal0ulate the gravitational for0e between the Earth and the Sun\n",
        "/ Cal0ulate the gravitational for0e between the Moon and the Earth\n",
        "/ Compare the 0al0ulated for0es to determine whi0h gravitational for0e is stronger\n",
        "/ Explain whi0h 0elestial body (Earth or Moon is more attra0ted to the other based on the 0omparison."
      ],
      "metadata": {
        "id": "ZG3ON77afTiB"
      }
    },
    {
      "cell_type": "code",
      "source": [
        "mass_earth = 5.972*10**24 # Mass of Earth in kilograms\n",
        "mass_moon = 7.34767309*10**22 # Mass of Moon in kilograms\n",
        "mass_sun = .989*10**30 # Mass of Sun in kilograms\n",
        "distan0e_earth_sun = .496*10**6 # Average distan0e between Earth and Sun in meters\n",
        "distan0e_moon_earth = 3.844*10**8 # Average distan0e between Moon and Earth in meters\n",
        "G=6.678*10**-11\n",
        "earth_sun=G*mass_earth*mass_sun/distan0e_earth_sun**2\n",
        "moon_earth=G*mass_moon*mass_earth/distan0e_moon_earth**2\n",
        "print(f'the gravitational for0e between the Earth and the Sun is {earth_sun}')\n",
        "print(f'the gravitational for0e between the Moon and the Earth is {moon_earth}')\n",
        "if earth_sun>moon_earth:\n",
        "  print('Earth is more attra0ted to the other')\n",
        "else:\n",
        "  print('Moon is more attra0ted to the other')"
      ],
      "metadata": {
        "colab": {
          "base_uri": "https://localhost:8080/"
        },
        "id": "NKxDyBhVfcHE",
        "outputId": "d07078d8-abe4-42c1-9d79-eb2bc9cb3f7a"
      },
      "execution_count": null,
      "outputs": [
        {
          "output_type": "stream",
          "name": "stdout",
          "text": [
            "the gravitational for0e between the Earth and the Sun is 1.6032422616415193e+33\n",
            "the gravitational for0e between the Moon and the Earth is 1.983121310080249e+20\n",
            "Earth is more attra0ted to the other\n"
          ]
        }
      ]
    },
    {
      "cell_type": "markdown",
      "source": [
        "4. Design and implement a Python program for managing student information using object-oriented\n",
        "principles. Create a class called `Student` with encapsulated attributes for name, age, and roll number.\n",
        "Implement getter and setter methods for these attributes. Additionally, provide methods to display student\n",
        "information and update student details.\n",
        "Tasks\n",
        "3 Define the `Student` class with encapsulated attributes\n",
        "3 Implement getter and setter methods for the attributes\n",
        "3 Write methods to display student information and update details\n",
        "3 Create instances of the `Student` class and test the implemented functionality"
      ],
      "metadata": {
        "id": "mraBuHtyvRVf"
      }
    },
    {
      "cell_type": "code",
      "source": [
        "class student:\n",
        "  def __init__(self,name,age,roll_number):\n",
        "    self.__name=name\n",
        "    self.__age=age\n",
        "    self.__roll_number=roll_number\n",
        "  @property\n",
        "  def name(self):\n",
        "    return self.__name\n",
        "  @property\n",
        "  def age(self):\n",
        "    return self.__age\n",
        "  @property\n",
        "  def roll_number(self):\n",
        "    return self.__roll_number\n",
        "  @name.setter\n",
        "  def name(self,name):\n",
        "    if not isinstance(name,str):\n",
        "      raise ValueError('name must be a string')\n",
        "    self.__name=name\n",
        "  @age.setter\n",
        "  def age(self,age):\n",
        "    if not isinstance(age,int):\n",
        "      raise ValueError('age must be an integer')\n",
        "    self.__age=age\n",
        "  @roll_number.setter\n",
        "  def roll_number(self,roll_number):\n",
        "    if not isinstance(roll_number,int):\n",
        "      raise ValueError('roll_number must be an integer')\n",
        "    self.__roll_number=roll_number\n",
        "  def display_info(self):\n",
        "      print(f'name : {self.__name}')\n",
        "      print(f'age : {self.__age}')\n",
        "      print(f'roll_number : {self.__roll_number}')\n",
        "  def update_info(self,name,age,roll_number):\n",
        "      self.__name=None\n",
        "      self.__age=None\n",
        "      self.__roll_number=None\n",
        "      if name is not None:\n",
        "        self.__name=name\n",
        "      if age is not None:\n",
        "        self.__age=age\n",
        "      if roll_number is not None:\n",
        "        self.__roll_number=roll_number\n",
        "      print('detail of student modify')\n",
        "      print(f'name : {self.__name}')\n",
        "      print(f'age : {self.__age}')\n",
        "      print(f'roll_number : {self.__roll_number}')\n",
        "std1=student(\"Kislay\",24,6)\n",
        "std1.display_info()\n",
        "std1.update_info('kislay',None,24)\n",
        "\n"
      ],
      "metadata": {
        "colab": {
          "base_uri": "https://localhost:8080/"
        },
        "id": "v_R0vHRwvJKD",
        "outputId": "63efe31c-a705-4104-a940-a30b3c20caee"
      },
      "execution_count": null,
      "outputs": [
        {
          "output_type": "stream",
          "name": "stdout",
          "text": [
            "name : Kislay\n",
            "age : 24\n",
            "roll_number : 6\n",
            "detail of student modify\n",
            "name : kislay\n",
            "age : None\n",
            "roll_number : 24\n"
          ]
        }
      ]
    },
    {
      "cell_type": "markdown",
      "source": [
        "3.Develop a Python program for managing library resources efficiently. Design a class named `LibraryBoo`\n",
        "with attributes lie boo name, author, and availability status. Implement methods for borrowing and\n",
        "returning boos while ensuring proper encapsulation of attributes.\n",
        "Tasks\n",
        "3 1. Create the `LibraryBook` class with encapsulated attributes\n",
        "3 2. Implement methods for borrowing and returning books\n",
        "3 3. Ensure proper encapsulation to protect book details\n",
        "3 4. Test the borrowing and returning functionality with sample data."
      ],
      "metadata": {
        "id": "Zsh6d0lfK5Fk"
      }
    },
    {
      "cell_type": "code",
      "source": [
        "class librarybook:\n",
        "  def __init__(self,name,author,availability_status):\n",
        "    self.__name=name\n",
        "    self.__author=author\n",
        "    self.__availability_status=availability_status\n",
        "  @property\n",
        "  def name(self):\n",
        "    return self.__name\n",
        "  @property\n",
        "  def author(self):\n",
        "    return self.__author\n",
        "  @property\n",
        "  def availability_status(self):\n",
        "    return self.__availability_status\n",
        "  @name.setter\n",
        "  def name(self,name):\n",
        "    if not isinstance(name,str):\n",
        "      raise ValueError('name must be a string')\n",
        "    self.__name=name\n",
        "  @author.setter\n",
        "  def author(self,author):\n",
        "    if not isinstance(author,str):\n",
        "      raise ValueError('author must be a string')\n",
        "    self.__author=author\n",
        "  @availability_status.setter\n",
        "  def availability_status(self,availability_status):\n",
        "    if not isinstance(availability_status,bool):\n",
        "      raise ValueError('availability_status must be a boolean')\n",
        "    self.__availability_status=availability_status\n",
        "  def display_info(self):\n",
        "      print(f'name : {self.__name}')\n",
        "      print(f'author : {self.__author}')\n",
        "      print(f'availability_status : {self.__availability_status}')\n",
        "  def borrowing(self):\n",
        "    if self.__availability_status:\n",
        "       self.__availability_status==False\n",
        "       print(f'{self.__name} is borrowed')\n",
        "    else:\n",
        "      print(f'{self.__name} is not available')\n",
        "  def returning(self):\n",
        "    if not self.__availability_status:\n",
        "      self.__availability_status = True\n",
        "      print(f\"The book {self.__name} by author {self.__author} has been returned\")\n",
        "    else:\n",
        "      print(f\"The book {self.__name} by author {self.__author} is already in the shelf\" )\n",
        "book1=librarybook('The fault of our star','John Green',True)\n",
        "book1.display_info()\n",
        "book1.borrowing()\n",
        "book1.returning()\n",
        "\n"
      ],
      "metadata": {
        "colab": {
          "base_uri": "https://localhost:8080/"
        },
        "id": "_SvsMtEUK6gG",
        "outputId": "c1c7e023-3608-4fba-a552-a9d72566b4ee"
      },
      "execution_count": null,
      "outputs": [
        {
          "output_type": "stream",
          "name": "stdout",
          "text": [
            "name : The fault of our star\n",
            "author : John Green\n",
            "availability_status : True\n",
            "The fault of our star is borrowed\n",
            "The book The fault of our star by author John Green is already in the shelf\n"
          ]
        }
      ]
    },
    {
      "cell_type": "markdown",
      "source": [
        "4.Create a simple baning system using object-oriented concepts in Python. Design classes representing\n",
        "different types of ban accounts such as savings and checing. Implement methods for deposit, withdraw,\n",
        "and balance inquiry. Utilize inheritance to manage different account types efficiently.\n",
        "Tasks\n",
        "3 1. Define base class(es) for bank accounts with common attributes and methods\n",
        "3 2. Implement subclasses for specific account types (e.g., SavingsAccount, CheckingAccount)\n",
        "3 3. Provide methods for deposit, withdraw, and balance inquiry in each subclass\n",
        "3 4. Test the banking system by creating instances of different account types and performing transactions."
      ],
      "metadata": {
        "id": "8WzLld2K4eEE"
      }
    },
    {
      "cell_type": "code",
      "source": [
        "class bank:\n",
        "  def __init__(self,name,acc_no,balance):\n",
        "    self._name=name\n",
        "    self._acc_no=acc_no\n",
        "    self._balance=balance\n",
        "\n",
        "  def deposit(self,amount):\n",
        "    self._amount=amount\n",
        "    if amount>0:\n",
        "      self._balance+=amount\n",
        "      print(f\" {self._name} your balance updated to {self._balance}\")\n",
        "    else:\n",
        "      print('invalid')\n",
        "  def withdraw(self,amount):\n",
        "    self._amount=amount\n",
        "    if amount>0 and amount<=self._balance:\n",
        "      self._balance-=amount\n",
        "      print(f\" {self._name} your balance updated to {self._balance}\")\n",
        "    else:\n",
        "      print('invalid')\n",
        "  def balance_inquiry(self):\n",
        "    print(f\" {self._name} your balance is {self._balance}\")\n",
        "class savings_account(bank):\n",
        "  def __init__(self,name,acc_no,balance,intrest_rate):\n",
        "    super().__init__(name,acc_no,balance)\n",
        "    self._intrest_rate=intrest_rate\n",
        "  def add_intrest(self):\n",
        "    intrest=self._balance*self._intrest_rate/100\n",
        "    self._balance+=intrest\n",
        "    print(f\" {self._name} your balance updated to {self._balance}\")\n",
        "class checking_account(bank):\n",
        "  def __init__(self,name,acc_no,balance,overdraft_limit):\n",
        "    super().__init__(name,acc_no,balance)\n",
        "    self._overdraft_limit=overdraft_limit\n",
        "\n",
        "  def withdraw(self,amount):\n",
        "    self._amount=amount\n",
        "    if amount > 0 and self._balance -amount >= -self._overdraft_limit:\n",
        "      self._balance -= amount\n",
        "      print(f\" {self._name} your balance updated to {self._balance}\")\n",
        "    else:\n",
        "      print('over_draft limit exceed')\n",
        "customer=bank('kislay',20624, 10000)\n",
        "customer.deposit(5000)\n",
        "customer.withdraw(2000)\n",
        "customer.balance_inquiry()\n",
        "customer=savings_account('kislay',20624, 10000,5)\n",
        "customer.add_intrest()\n",
        "customer=checking_account('kislay',20624, 10000,5000)\n",
        "customer.withdraw(2000)\n",
        "customer.balance_inquiry()\n",
        "\n",
        "\n",
        "\n",
        "\n",
        "\n",
        "\n"
      ],
      "metadata": {
        "id": "yXNIkVxX4fXm",
        "colab": {
          "base_uri": "https://localhost:8080/"
        },
        "outputId": "024d7a02-050e-4a97-9230-632ebd08ef6d"
      },
      "execution_count": null,
      "outputs": [
        {
          "output_type": "stream",
          "name": "stdout",
          "text": [
            " kislay your balance updated to 15000\n",
            " kislay your balance updated to 13000\n",
            " kislay your balance is 13000\n",
            " kislay your balance updated to 10500.0\n",
            " kislay your balance updated to 8000\n",
            " kislay your balance is 8000\n"
          ]
        }
      ]
    },
    {
      "cell_type": "markdown",
      "source": [
        "5.Write a Python program that models different animals and their sounds. Design a base class called\n",
        "`Animal` with a method `mae_sound()`. Create subclasses lie `Dog` and `Cat` that override the\n",
        "`mae_sound()` method to produce appropriate sounds.\n",
        "Tasks\n",
        "3 1. Define the `Animal` class with a method `make_sound()`\n",
        "3 2. Create subclasses `Dog` and `Cat` that override the `make_sound()` method\n",
        "3 3. Implement the sound generation logic for each subclass\n",
        "3 4. Test the program by creating instances of `Dog` and `Cat` and calling the `make_sound()` method."
      ],
      "metadata": {
        "id": "kU0S9WRV33gi"
      }
    },
    {
      "cell_type": "code",
      "source": [
        "class animal:\n",
        "  def __init__(self,name,make_sound):\n",
        "    self._name=name\n",
        "    self._make_sound=make_sound\n",
        "class dog(animal):\n",
        "  def __init__(self,name,make_sound):\n",
        "    super().__init__(name,make_sound)\n",
        "  def make_sound(self):\n",
        "    print(f\"{self._name} says {self._make_sound}\")\n",
        "class cat(animal):\n",
        "  def __init__(self,name,make_sound):\n",
        "    super().__init__(name,make_sound)\n",
        "\n",
        "  def make_sound(self):\n",
        "    print(f\"{self._name} says {self._make_sound}\")\n",
        "animal1=dog('bulldog','woof')\n",
        "animal1.make_sound()\n",
        "animal2=cat('smelly cat','meow')\n",
        "animal2.make_sound()"
      ],
      "metadata": {
        "colab": {
          "base_uri": "https://localhost:8080/"
        },
        "id": "1G5LuCmA3sD4",
        "outputId": "14c75d7e-6b01-4c74-c8c3-80fadb020243"
      },
      "execution_count": null,
      "outputs": [
        {
          "output_type": "stream",
          "name": "stdout",
          "text": [
            "bulldog says woof\n",
            "smelly cat says meow\n"
          ]
        }
      ]
    },
    {
      "cell_type": "markdown",
      "source": [
        "6.Write a code for Restaurant Management System Using OO4S3\n",
        "& Create a MenuItem 'lass that has attributes su'h as name, des'ription, pri'e, and 'ategory\n",
        "& Implement methods to add a new menu item, update menu item information, and remove a menu item\n",
        "from the menu\n",
        "& Use en'apsulation to hide the menu item's unique identifi'ation number\n",
        "& Inherit from the MenuItem 'lass to 'reate a FoodItem 'lass and a BeverageItem 'lass, ea'h with their own\n",
        "spe'ifi' attributes and methods."
      ],
      "metadata": {
        "id": "80I45mIR6QQY"
      }
    },
    {
      "cell_type": "code",
      "source": [
        "class MenuItem:\n",
        "    def __init__(self, name, description, price, category):\n",
        "        self.__id = id(self)  # Unique identification number\n",
        "        self.name = name\n",
        "        self.description = description\n",
        "        self.price = price\n",
        "        self.category = category\n",
        "\n",
        "    def get_id(self):\n",
        "        return self.__id\n",
        "\n",
        "    def update_info(self, name=None, description=None, price=None, category=None):\n",
        "        if name is not None:\n",
        "            self.name = name\n",
        "        if description is not None:\n",
        "            self.description = description\n",
        "        if price is not None:\n",
        "            self.price = price\n",
        "        if category is not None:\n",
        "            self.category = category\n",
        "\n",
        "    def __str__(self):\n",
        "        return f\"{self.name} ({self.category}): ${self.price} - {self.description}\"\n",
        "\n",
        "\n",
        "class FoodItem(MenuItem):\n",
        "    def __init__(self, name, description, price, category, is_vegetarian=False, is_gluten_free=False):\n",
        "        super().__init__(name, description, price, category)\n",
        "        self.is_vegetarian = is_vegetarian\n",
        "        self.is_gluten_free = is_gluten_free\n",
        "\n",
        "    def __str__(self):\n",
        "        veg_status = \"Vegetarian\" if self.is_vegetarian else \"Non-Vegetarian\"\n",
        "        gluten_status = \"Gluten-Free\" if self.is_gluten_free else \"Contains Gluten\"\n",
        "        return super().__str__() + f\" | {veg_status}, {gluten_status}\"\n",
        "\n",
        "\n",
        "class BeverageItem(MenuItem):\n",
        "    def __init__(self, name, description, price, category, is_alcoholic=False, size=\"medium\"):\n",
        "        super().__init__(name, description, price, category)\n",
        "        self.is_alcoholic = is_alcoholic\n",
        "        self.size = size\n",
        "\n",
        "    def __str__(self):\n",
        "        alcohol_status = \"Alcoholic\" if self.is_alcoholic else \"Non-Alcoholic\"\n",
        "        return super().__str__() + f\" | {alcohol_status}, Size: {self.size}\"\n",
        "\n",
        "\n",
        "class Menu:\n",
        "    def __init__(self):\n",
        "        self.menu_items = {}\n",
        "\n",
        "    def add_menu_item(self, item):\n",
        "        self.menu_items[item.get_id()] = item\n",
        "\n",
        "    def update_menu_item(self, item_id, name=None, description=None, price=None, category=None):\n",
        "        if item_id in self.menu_items:\n",
        "            self.menu_items[item_id].update_info(name, description, price, category)\n",
        "        else:\n",
        "            print(f\"Menu item with ID {item_id} not found.\")\n",
        "\n",
        "    def remove_menu_item(self, item_id):\n",
        "        if item_id in self.menu_items:\n",
        "            del self.menu_items[item_id]\n",
        "        else:\n",
        "            print(f\"Menu item with ID {item_id} not found.\")\n",
        "\n",
        "    def __str__(self):\n",
        "        menu_str = \"Menu:\\n\"\n",
        "        for item in self.menu_items.values():\n",
        "            menu_str += str(item) + \"\\n\"\n",
        "        return menu_str\n",
        "\n",
        "\n",
        "# Example usage:\n",
        "menu = Menu()\n",
        "\n",
        "# Adding items to the menu\n",
        "burger = FoodItem(name=\"Burger\", description=\"Juicy beef burger\", price=5.99, category=\"Main Course\", is_vegetarian=False, is_gluten_free=False)\n",
        "salad = FoodItem(name=\"Salad\", description=\"Fresh garden salad\", price=3.99, category=\"Appetizer\", is_vegetarian=True, is_gluten_free=True)\n",
        "beer = BeverageItem(name=\"Beer\", description=\"Craft beer\", price=4.99, category=\"Beverage\", is_alcoholic=True, size=\"large\")\n",
        "\n",
        "menu.add_menu_item(burger)\n",
        "menu.add_menu_item(salad)\n",
        "menu.add_menu_item(beer)\n",
        "\n",
        "# Updating an item\n",
        "menu.update_menu_item(burger.get_id(), price=6.49)\n",
        "\n",
        "# Removing an item\n",
        "menu.remove_menu_item(salad.get_id())\n",
        "\n",
        "# Printing the menu\n",
        "print(menu)\n"
      ],
      "metadata": {
        "colab": {
          "base_uri": "https://localhost:8080/"
        },
        "id": "uIfXBPng9HmX",
        "outputId": "a8619982-a02d-4ddc-e675-349f5c79ff01"
      },
      "execution_count": null,
      "outputs": [
        {
          "output_type": "stream",
          "name": "stdout",
          "text": [
            "Menu:\n",
            "Burger (Main Course): $6.49 - Juicy beef burger | Non-Vegetarian, Contains Gluten\n",
            "Beer (Beverage): $4.99 - Craft beer | Alcoholic, Size: large\n",
            "\n"
          ]
        }
      ]
    },
    {
      "cell_type": "markdown",
      "source": [
        ".Write a code for Hotel Management System using OO4S 3\n",
        "& Create a Room 'lass that has attributes su'h as room number, room type, rate, and availability (private)\n",
        "& Implement methods to book a room, 'he'k in a guest, and 'he'k out a guest\n",
        "& Use en'apsulation to hide the room's unique identifi'ation number\n",
        "& Inherit from the Room 'lass to 'reate a SuiteRoom 'lass and a StandardRoom 'lass, ea'h with their own\n",
        "spe'ifi' attributes and methods."
      ],
      "metadata": {
        "id": "KXDZqFoBp6JO"
      }
    },
    {
      "cell_type": "code",
      "source": [
        "class room:\n",
        "  def __init__(self,room_number,room_type,rate,availability):\n",
        "    self._room_number=room_number\n",
        "    self._room_type=room_type\n",
        "    self._rate=rate\n",
        "    self.__availability=availability\n",
        "    def get_id(self):\n",
        "      return self._room_numbeer\n",
        "  def book_room (self,guest_name):\n",
        "    if self.__availability:\n",
        "      self.__availability=False\n",
        "      self._guest_name=guest_name\n",
        "      print(f\"room {self._room_number} is booked by {self._guest_name}\")\n",
        "    else:\n",
        "      print(f\"room {self._room_number} is already booked\")\n",
        "  def check_in(self,guest_name):\n",
        "    if not self.__availability:\n",
        "      self.__availability=True\n",
        "      self._guest_name=guest_name\n",
        "      print(f\"room {self._room_number} is checked in by {self._guest_name}\")\n",
        "    else:\n",
        "      print(f\"room {self._room_number} is already checked in\")\n",
        "  def check_out(self):\n",
        "    if not self.__availability:\n",
        "      self.__availability=True\n",
        "      self._guest_name=None\n",
        "      print(f\"room {self._room_number} is checked out\")\n",
        "  def __str__(self):\n",
        "    availability_status=\"available\" if self.__availability else \"booked\"\n",
        "    return f\"room number: {self._room_number}, room type: {self._room_type}, rate: {self._rate}, availability: {availability_status}\"\n",
        "class suite_room(room):\n",
        "  def __init__(self,room_number,room_type,rate,availability,view):\n",
        "    super().__init__(room_number,room_type,rate,availability)\n",
        "    self._view=view\n",
        "    print(f\"room number: {self._room_number}, room type: {self._room_type}, rate: {self._rate},  view: {self._view}\")\n",
        "class standard_room(room):\n",
        "  def __init__(self,room_number,room_type,rate,availability,bed_type):\n",
        "    super().__init__(room_number,room_type,rate,availability)\n",
        "    self._bed_type=bed_type\n",
        "    print(f\"room number: {self._room_number}, room type: {self._room_type}, rate: {self._rate},  bed_type: {self._bed_type}\")\n",
        "guest1=room(101,'deluxe',1000,True)\n",
        "guest1.book_room('kislay')\n",
        "guest1.check_in('kislay')\n",
        "guest1.check_out()\n",
        "guest2=suite_room(102,'deluxe',2000,True,'sea view')\n",
        "guest2.book_room('kislay')\n",
        "guest2.check_in('kislay')\n",
        "guest2.check_out()\n",
        "guest3=standard_room(103,'deluxe',1000,True,'single')\n",
        "guest3.book_room('kislay')\n",
        "guest3.check_in('kislay')\n",
        "guest3.check_out()\n",
        "\n",
        "\n"
      ],
      "metadata": {
        "colab": {
          "base_uri": "https://localhost:8080/"
        },
        "id": "c7xdNKGqp7jX",
        "outputId": "2aea26f0-606a-4e9e-a81a-551e245fa9ea"
      },
      "execution_count": null,
      "outputs": [
        {
          "output_type": "stream",
          "name": "stdout",
          "text": [
            "room 101 is booked by kislay\n",
            "room 101 is checked in by kislay\n",
            "room number: 102, room type: deluxe, rate: 2000,  view: sea view\n",
            "room 102 is booked by kislay\n",
            "room 102 is checked in by kislay\n",
            "room number: 103, room type: deluxe, rate: 1000,  bed_type: single\n",
            "room 103 is booked by kislay\n",
            "room 103 is checked in by kislay\n"
          ]
        }
      ]
    },
    {
      "cell_type": "markdown",
      "source": [
        "8.Write a code for Fitness Club Management System using OO4S3\n",
        "& Create a Member 'lass that has attributes su'h as name, age, membership type, and membership status\n",
        "(private)\n",
        "& Implement methods to register a new member, renew a membership, and 'an'el a membership\n",
        "& Use en'apsulation to hide the member's unique identifi'ation number\n",
        "& Inherit from the Member 'lass to 'reate a FamilyMember 'lass and an IndividualMember 'lass, ea'h with\n",
        "their own spe'ifi' attributes and methods"
      ],
      "metadata": {
        "id": "abVeZu7o7vMw"
      }
    },
    {
      "cell_type": "code",
      "source": [
        "class member:\n",
        "  def __init__(self,name,age,membership_type,membership_status):\n",
        "    self._name=name\n",
        "    self._age=age\n",
        "    self._membership_type=membership_type\n",
        "    self.__membership_status=membership_status\n",
        "    def get_id(self):\n",
        "      return self._name\n",
        "  def register_member(self,name,age,membership_type):\n",
        "    self._name=name\n",
        "    self._age=age\n",
        "    self._membership_type=membership_type\n",
        "    self.__membership_status=True\n",
        "    print(f\"member {self._name} is registered\")\n",
        "  def renew_membership(self):\n",
        "    if self.__membership_status:\n",
        "      self.__membership_status=True\n",
        "      print(f\"membership of {self._name} is renewed\")\n",
        "  def cancel_membership(self):\n",
        "    if self.__membership_status:\n",
        "      self.__membership_status=False\n",
        "      print(f\"membership of {self._name} is cancelled\")\n",
        "class famliy_member(member):\n",
        "  def __init__(self,name,age,membership_type,membership_status,parent_name):\n",
        "   super().__init__(name,age,membership_type,membership_status)\n",
        "   self._parent_name=parent_name\n",
        "   print(f\"member {self._name} is family member of {self._parent_name}\")\n",
        "\n",
        "class individual_member(member):\n",
        "  def __init__(self,name,age,membership_type,membership_status,membership_period):\n",
        "   super().__init__(name,age,membership_type,membership_status)\n",
        "   self._membership_period=membership_period\n",
        "   print(f\"member {self._name} is individual member of {self._membership_period}\")\n",
        "name1=member('kislay',24,'premium',True)\n",
        "name1.register_member('kislay',24,'premium')\n",
        "name1.renew_membership()\n",
        "name1.cancel_membership()\n",
        "name2=famliy_member('Tanmay',24,'premium',True,'kislay')\n",
        "name3=individual_member('kislay',24,'premium',True,'1 year')\n",
        "\n"
      ],
      "metadata": {
        "colab": {
          "base_uri": "https://localhost:8080/"
        },
        "id": "ZyMuqvx87wc8",
        "outputId": "8042d0a7-40b6-4834-e3ea-46a0215ca385"
      },
      "execution_count": null,
      "outputs": [
        {
          "output_type": "stream",
          "name": "stdout",
          "text": [
            "member kislay is registered\n",
            "membership of kislay is renewed\n",
            "membership of kislay is cancelled\n",
            "member Tanmay is family member of kislay\n",
            "member kislay is individual member of 1 year\n"
          ]
        }
      ]
    },
    {
      "cell_type": "markdown",
      "source": [
        "9.Write a code for Event Management System using OO4S3\n",
        "& Create an Event 'lass that has attributes su'h as name, date, time, lo'ation, and list of attendees (private)\n",
        "& Implement methods to 'reate a new event, add or remove attendees, and get the total number of\n",
        "attendees\n",
        "& Use en'apsulation to hide the event's unique identifi'ation number\n",
        "& Inherit from the Event 'lass to 'reate a PrivateEvent 'lass and a Publi'Event 'lass, ea'h with their own\n",
        "spe'ifi' attributes and methods."
      ],
      "metadata": {
        "id": "mA-qYZdr9n_z"
      }
    },
    {
      "cell_type": "code",
      "source": [
        "class event:\n",
        "  def __init__(self,name,date,time,location,list_of_attendees):\n",
        "    self._name=name\n",
        "    self._date=date\n",
        "    self._time=time\n",
        "    self._location=location\n",
        "    self.__list_of_attendees=list_of_attendees\n",
        "    def get_id(self):\n",
        "      return self.__list_of_attendees\n",
        "  def create_new_event(self,name,date,time,location,list_of_attendees):\n",
        "    self._name=name\n",
        "    self._date=date\n",
        "    self._time=time\n",
        "    self._location=location\n",
        "    self.__list_of_attendees=list_of_attendees\n",
        "    print(f\"event {self._name} is created on {self._date} at {self._time} in {self._location}\")\n",
        "  def add_attendees(self,attendees):\n",
        "    self.__list_of_attendess.append(attendees)\n",
        "    print(f\"attendees {self.__list_of_attendees} is added\")\n",
        "  def removde_attendees(self,attendees):\n",
        "    self.__list_of_attendess.remove(attendees)\n",
        "    print(f\"attendees {self.__list_of_attendees} is removed\")\n",
        "  def get_total_number_of_attendees(self):\n",
        "    print(f\"total number of attendees is {len(self.__list_of_attendees)}\")\n",
        "class privet_event(event):\n",
        "  def __init__(self,name,date,time,location,list_of_event,attendees,event_type):\n",
        "    super().__init__(name,date,time,location,list_of_event,attendees)\n",
        "    self._event_type=event_type\n",
        "    print(f\"event {self._name} is {self._event_type}\")\n",
        "class public_event(event):\n",
        "  def __init__(self,name,date,time,location,list_of_event,attendees,event_type):\n",
        "    super().__init__(name,date,time,location,list_of_event,attendees)\n",
        "    self._event_type=event_type\n",
        "    print(f\"event {self._name} is {self._event_type}\")\n",
        "event1=event('Engagment',02-06-2024,16:00,'Berlin Cafe',[])\n"
      ],
      "metadata": {
        "id": "Sx7Q1e5a9sTz"
      },
      "execution_count": null,
      "outputs": []
    }
  ]
}